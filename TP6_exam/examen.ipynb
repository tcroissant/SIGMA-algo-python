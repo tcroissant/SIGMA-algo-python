{
 "cells": [
  {
   "cell_type": "markdown",
   "metadata": {},
   "source": [
    "# EXAMEN DE PYTHON POUR L'ANALYSE DE DONNEES"
   ]
  },
  {
   "cell_type": "markdown",
   "metadata": {},
   "source": [
    "### Le but de l'examen est de vous faire manipuler python, pandas et matplotlib sur un jeu de données fourni.\n",
    "### On va s'intéresser au cas d'une élection pour laquelle cinq candidats sont présents. Chaque votant attribue un score entre 0 et 10 à chaque candidat. On va alors tester différents modes de scrutin et voir leur influence sur le vainqueur des élections"
   ]
  },
  {
   "cell_type": "code",
   "execution_count": null,
   "metadata": {},
   "outputs": [],
   "source": [
    "import numpy as np\n",
    "import pandas as pd\n",
    "import matplotlib.pyplot as plt"
   ]
  },
  {
   "cell_type": "markdown",
   "metadata": {},
   "source": [
    "### Q0 : importez le fichier votes.csv dans un DataFrame et affichez les 5 premières lignes"
   ]
  },
  {
   "cell_type": "code",
   "execution_count": null,
   "metadata": {},
   "outputs": [],
   "source": [
    "votes = "
   ]
  },
  {
   "cell_type": "code",
   "execution_count": null,
   "metadata": {},
   "outputs": [],
   "source": []
  },
  {
   "cell_type": "markdown",
   "metadata": {},
   "source": [
    "### Q1 : créez une classe appelée Scrutin, qui prend en paramètre le DataFrame des votes, et qui propose une méthode permettant d'afficher le nombre de votants. Créez ensuite une instance de cette classe et appliquez la méthode de compte des votants."
   ]
  },
  {
   "cell_type": "code",
   "execution_count": null,
   "metadata": {},
   "outputs": [],
   "source": [
    "class Scrutin():\n",
    "\n"
   ]
  },
  {
   "cell_type": "code",
   "execution_count": null,
   "metadata": {},
   "outputs": [],
   "source": [
    "scrutin = Scrutin(votes)"
   ]
  },
  {
   "cell_type": "code",
   "execution_count": null,
   "metadata": {},
   "outputs": [],
   "source": [
    "scrutin.nombre_de_votants()"
   ]
  },
  {
   "cell_type": "markdown",
   "metadata": {},
   "source": [
    "### Q2 : La première méthode de scrutin que l'on va étudier est une simple somme des scores. Pour chaque candidat, on fait la somme des scores attribués par chaque votant et le vainqueur est le candidat obtenant le score le plus haut.\n",
    "\n",
    "### Ajoutez à la classe Scrutin créée ci-dessus une méthode appelée somme_score qui affiche le candidat vainqueur et propose une visualisation des résultats du vote. Appliquez cette méthode au fichier de votes fourni. Indice : pensez à la méthode idxmax()"
   ]
  },
  {
   "cell_type": "code",
   "execution_count": null,
   "metadata": {},
   "outputs": [],
   "source": [
    "scrutin = Scrutin(votes)"
   ]
  },
  {
   "cell_type": "code",
   "execution_count": null,
   "metadata": {},
   "outputs": [],
   "source": [
    "scrutin.somme_score()"
   ]
  },
  {
   "cell_type": "markdown",
   "metadata": {},
   "source": [
    "### Q3 : On s'intéresse maintenant au scrutin uninominal majoritaire à 1 et 2 tours. Pour chaque candidat, on compte le nombre de fois où celui-ci arrive en tête des votes de chaque votant. Dans un scrutin à un tour, le vainqueur est celui arrivant en tête le plus grand nombre de fois. Dans un scrutin à deux tours, on sélectionne d'abord les deux candidats arrivant en tête le plus grand nombre de fois, puis on répète le décompte entre ces deux candidats restants. Le vainqueur est celui arrivent le plus souvent devant son adversaire.\n",
    "\n",
    "### Ajoutez à la classe Scrutin une méthode de calcul du vainqueur par scrutin uninominal majoritaire à un ou deux tours (utiliser le nombre de tours comme paramètre de la méthode) et de visualisation des résultats du vote. Créez une nouvelle instance de la classe Scrutin et appliquez la méthode au fichier de votes fourni pour un scrutin à un tour ET pour un scrutin à deux tours"
   ]
  },
  {
   "cell_type": "code",
   "execution_count": null,
   "metadata": {},
   "outputs": [],
   "source": []
  },
  {
   "cell_type": "code",
   "execution_count": null,
   "metadata": {},
   "outputs": [],
   "source": []
  },
  {
   "cell_type": "code",
   "execution_count": null,
   "metadata": {},
   "outputs": [],
   "source": []
  },
  {
   "cell_type": "markdown",
   "metadata": {},
   "source": [
    "### Q4 : On s'intéresse maintenant au scrutin par jugement majoritaire. Chaque score attribué par les votants est transformé en mention : \"rejeté\" entre 0 et 2, \"insuffisant\" entre 3 et 4, \"passable\" entre 5 et 6, \"bien\" entre 7 et 8, \"très bien\" entre 9 et 10. On commence par faire le total du nombre d'apparitions de chaque mention pour chaque candidat. On calcule ensuite la mention médiane (ou mention majoritaire) de chaque candidat selon le principe décrit dans cet article : https://fr.wikipedia.org/wiki/Jugement_majoritaire\n",
    "\n",
    "### Ajoutez ce nouveau mode de scrutin à votre classe Scrutin et appliquez la au fichier de votes fourni (nom de vainqueur + visualisation des résultats)."
   ]
  },
  {
   "cell_type": "code",
   "execution_count": null,
   "metadata": {},
   "outputs": [],
   "source": []
  },
  {
   "cell_type": "code",
   "execution_count": null,
   "metadata": {},
   "outputs": [],
   "source": []
  },
  {
   "cell_type": "markdown",
   "metadata": {},
   "source": [
    "### Q5 : On s'intéresse enfin à la méthode de Condorcet. Chaque candidat affronte en duel chaque autre candidat. Le vainqueur est celui remportant le plus de duel.\n",
    "\n",
    "### Ajoutez ce nouveau mode de scrutin à votre classe Scrutin et appliquez la au fichier de votes fourni (nom de vainqueur + visualisation des résultats)."
   ]
  },
  {
   "cell_type": "code",
   "execution_count": null,
   "metadata": {},
   "outputs": [],
   "source": []
  },
  {
   "cell_type": "code",
   "execution_count": null,
   "metadata": {},
   "outputs": [],
   "source": []
  }
 ],
 "metadata": {
  "kernelspec": {
   "display_name": "Python 3",
   "language": "python",
   "name": "python3"
  },
  "language_info": {
   "codemirror_mode": {
    "name": "ipython",
    "version": 3
   },
   "file_extension": ".py",
   "mimetype": "text/x-python",
   "name": "python",
   "nbconvert_exporter": "python",
   "pygments_lexer": "ipython3",
   "version": "3.6.8"
  }
 },
 "nbformat": 4,
 "nbformat_minor": 2
}
